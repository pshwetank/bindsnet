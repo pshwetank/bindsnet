{
 "cells": [
  {
   "cell_type": "code",
   "execution_count": 7,
   "metadata": {},
   "outputs": [],
   "source": [
    "import pickle\n",
    "import matplotlib.pyplot as plt\n",
    "from bindsnet import load_network"
   ]
  },
  {
   "cell_type": "code",
   "execution_count": 8,
   "metadata": {},
   "outputs": [
    {
     "data": {
      "text/plain": [
       "{'episode_rewards': tensor([9.], device='cuda:0')}"
      ]
     },
     "execution_count": 8,
     "metadata": {},
     "output_type": "execute_result"
    }
   ],
   "source": [
    "pickle.load(open('1542020670_dqsnn.dat','rb'))"
   ]
  },
  {
   "cell_type": "code",
   "execution_count": 9,
   "metadata": {},
   "outputs": [],
   "source": [
    "import torch\n"
   ]
  },
  {
   "cell_type": "code",
   "execution_count": 20,
   "metadata": {},
   "outputs": [
    {
     "data": {
      "text/plain": [
       "tensor([[0.0000, 0.0009, 0.0054,  ..., 0.0052, 0.0078, 0.0077],\n",
       "        [0.0081, 0.0095, 0.0056,  ..., 0.0098, 0.0033, 0.0014],\n",
       "        [0.0082, 0.0069, 0.0034,  ..., 0.0039, 0.0051, 0.0009],\n",
       "        ...,\n",
       "        [0.0008, 0.0026, 0.0077,  ..., 0.0007, 0.0046, 0.0082],\n",
       "        [0.0039, 0.0066, 0.0056,  ..., 0.0017, 0.0046, 0.0054],\n",
       "        [0.0001, 0.0017, 0.0045,  ..., 0.0023, 0.0097, 0.0002]])"
      ]
     },
     "execution_count": 20,
     "metadata": {},
     "output_type": "execute_result"
    }
   ],
   "source": [
    "torch.clamp(torch.rand((1000,1000))/100, max=0.01)"
   ]
  }
 ],
 "metadata": {
  "kernelspec": {
   "display_name": "python3-local",
   "language": "python",
   "name": "python3"
  },
  "language_info": {
   "codemirror_mode": {
    "name": "ipython",
    "version": 3
   },
   "file_extension": ".py",
   "mimetype": "text/x-python",
   "name": "python",
   "nbconvert_exporter": "python",
   "pygments_lexer": "ipython3",
   "version": "3.6.7"
  }
 },
 "nbformat": 4,
 "nbformat_minor": 2
}
